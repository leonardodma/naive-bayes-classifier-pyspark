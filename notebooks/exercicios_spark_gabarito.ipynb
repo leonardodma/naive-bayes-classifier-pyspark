{
 "cells": [
  {
   "cell_type": "markdown",
   "id": "0e37c0df-e67b-449d-8048-3be19047ab6d",
   "metadata": {},
   "source": [
    "# Exercicios com Spark"
   ]
  },
  {
   "cell_type": "code",
   "execution_count": 1,
   "id": "f6d1b7f8-ddc9-43b0-adbd-2b6e5aad182c",
   "metadata": {},
   "outputs": [],
   "source": [
    "import pyspark\n",
    "\n",
    "conf = pyspark.SparkConf()\n",
    "conf.setAppName('Oie')\n",
    "conf.setMaster('local[*]')\n",
    "\n",
    "sc = pyspark.SparkContext(conf=conf)"
   ]
  },
  {
   "cell_type": "code",
   "execution_count": 2,
   "id": "5214f8ff-9df1-4817-9e08-c1755470f3b6",
   "metadata": {},
   "outputs": [
    {
     "data": {
      "text/html": [
       "\n",
       "        <div>\n",
       "            <p><b>SparkContext</b></p>\n",
       "\n",
       "            <p><a href=\"http://e1a939547793:4040\">Spark UI</a></p>\n",
       "\n",
       "            <dl>\n",
       "              <dt>Version</dt>\n",
       "                <dd><code>v3.2.1</code></dd>\n",
       "              <dt>Master</dt>\n",
       "                <dd><code>local[*]</code></dd>\n",
       "              <dt>AppName</dt>\n",
       "                <dd><code>Oie</code></dd>\n",
       "            </dl>\n",
       "        </div>\n",
       "        "
      ],
      "text/plain": [
       "<SparkContext master=local[*] appName=Oie>"
      ]
     },
     "execution_count": 2,
     "metadata": {},
     "output_type": "execute_result"
    }
   ],
   "source": [
    "sc"
   ]
  },
  {
   "cell_type": "markdown",
   "id": "483b1de3-9e55-46ce-99e8-526b05b8c3d2",
   "metadata": {},
   "source": [
    "Para este exercicio vamos trabalhar com o dataset de reviews da Amazon visto em https://www.kaggle.com/datasets/kritanjalijain/amazon-reviews. Baixe o arquivo \"train.csv\""
   ]
  },
  {
   "cell_type": "markdown",
   "id": "65caf38e-fbd8-4513-af02-37671c6a949b",
   "metadata": {},
   "source": [
    "Vamos ler o arquivo \"train.csv\" em um RDD."
   ]
  },
  {
   "cell_type": "code",
   "execution_count": 3,
   "id": "e64ec721-3b7f-46b8-a8a9-d27ccc83f209",
   "metadata": {},
   "outputs": [],
   "source": [
    "rdd = sc.textFile('train.csv')"
   ]
  },
  {
   "cell_type": "code",
   "execution_count": 4,
   "id": "5b73e675-ea3b-49c2-8622-53e8c17cfdf6",
   "metadata": {},
   "outputs": [
    {
     "data": {
      "text/plain": [
       "['\"2\",\"Stuning even for the non-gamer\",\"This sound track was beautiful! It paints the senery in your mind so well I would recomend it even to people who hate vid. game music! I have played the game Chrono Cross but out of all of the games I have ever played it has the best music! It backs away from crude keyboarding and takes a fresher step with grate guitars and soulful orchestras. It would impress anyone who cares to listen! ^_^\"']"
      ]
     },
     "execution_count": 4,
     "metadata": {},
     "output_type": "execute_result"
    }
   ],
   "source": [
    "rdd.take(1)"
   ]
  },
  {
   "cell_type": "markdown",
   "id": "a4794fc0-59cf-497f-98fc-d20efc0cca2b",
   "metadata": {},
   "source": [
    "De acordo com a documentação deste arquivo vista no Kaggle, cada linha contem 2 elementos: o sentimento do review (1 - negativo, 2 - positivo), o título e o corpo do review. A linha contem esses elementos em um formato \"comma-separated value\" (CSV), onde cada um dos campos está delimitado por aspas duplas. Se o texto em si (titulo ou corpo) contem aspas, elas aparecem como um par de aspas duplas. Vamos usar o `.filter()` para achar um exemplo desses."
   ]
  },
  {
   "cell_type": "code",
   "execution_count": 5,
   "id": "ef3c736d-0378-43f7-be05-3e7f53b1423e",
   "metadata": {},
   "outputs": [
    {
     "data": {
      "text/plain": [
       "'\"2\",\"Amazing!\",\"This soundtrack is my favorite music of all time, hands down. The intense sadness of \"\"Prisoners of Fate\"\" (which means all the more if you\\'ve played the game) and the hope in \"\"A Distant Promise\"\" and \"\"Girl who Stole the Star\"\" have been an important inspiration to me personally throughout my teen years. The higher energy tracks like \"\"Chrono Cross ~ Time\\'s Scar~\"\", \"\"Time of the Dreamwatch\"\", and \"\"Chronomantique\"\" (indefinably remeniscent of Chrono Trigger) are all absolutely superb as well.This soundtrack is amazing music, probably the best of this composer\\'s work (I haven\\'t heard the Xenogears soundtrack, so I can\\'t say for sure), and even if you\\'ve never played the game, it would be worth twice the price to buy it.I wish I could give it 6 stars.\"'"
      ]
     },
     "execution_count": 5,
     "metadata": {},
     "output_type": "execute_result"
    }
   ],
   "source": [
    "example_line = rdd.filter(lambda x: '\"\"' in x).take(1)\n",
    "example_line = example_line[0]\n",
    "\n",
    "example_line"
   ]
  },
  {
   "cell_type": "markdown",
   "id": "efc0e86d-122f-4c0e-bf36-a0a8e2f60559",
   "metadata": {},
   "source": [
    "Levando isso em comsideração, vamos fazer uma função simples para separar os campos:"
   ]
  },
  {
   "cell_type": "code",
   "execution_count": 6,
   "id": "4923aa8b-1bee-4c74-8d18-6f4cf0445b0a",
   "metadata": {},
   "outputs": [],
   "source": [
    "def parse_line(line):\n",
    "    parts = line[1:-1].split('\",\"')\n",
    "    sentiment = int(parts[0])\n",
    "    title = parts[1].replace('\"\"', '\"')\n",
    "    body = parts[2].replace('\"\"', '\"')\n",
    "    return (sentiment, title, body)"
   ]
  },
  {
   "cell_type": "code",
   "execution_count": 7,
   "id": "82f380c6-469c-4dd2-baa5-cbe72110de7f",
   "metadata": {},
   "outputs": [
    {
     "data": {
      "text/plain": [
       "(2,\n",
       " 'Amazing!',\n",
       " 'This soundtrack is my favorite music of all time, hands down. The intense sadness of \"Prisoners of Fate\" (which means all the more if you\\'ve played the game) and the hope in \"A Distant Promise\" and \"Girl who Stole the Star\" have been an important inspiration to me personally throughout my teen years. The higher energy tracks like \"Chrono Cross ~ Time\\'s Scar~\", \"Time of the Dreamwatch\", and \"Chronomantique\" (indefinably remeniscent of Chrono Trigger) are all absolutely superb as well.This soundtrack is amazing music, probably the best of this composer\\'s work (I haven\\'t heard the Xenogears soundtrack, so I can\\'t say for sure), and even if you\\'ve never played the game, it would be worth twice the price to buy it.I wish I could give it 6 stars.')"
      ]
     },
     "execution_count": 7,
     "metadata": {},
     "output_type": "execute_result"
    }
   ],
   "source": [
    "parse_line(example_line)"
   ]
  },
  {
   "cell_type": "markdown",
   "id": "ad8249e3-6f4a-4ed0-81b5-a453d141b88b",
   "metadata": {},
   "source": [
    "Podemos agora utilizar nossa função para separar os campos de cada linha do dataset. "
   ]
  },
  {
   "cell_type": "code",
   "execution_count": 8,
   "id": "59d103d0-ae4d-4912-ba1b-8133f12d4e6b",
   "metadata": {},
   "outputs": [],
   "source": [
    "rdd_split = rdd.map(parse_line).cache()"
   ]
  },
  {
   "cell_type": "markdown",
   "id": "a64fbea0-1378-4be7-b1d7-ada7828735b4",
   "metadata": {},
   "source": [
    "Como de costume, nada realmente acontece até que uma \"action\" seja invocada. O `.map()` é uma \"transformation\". Vamos usar uma action simples para \"materializar\" o novo RDD."
   ]
  },
  {
   "cell_type": "code",
   "execution_count": 9,
   "id": "06b670e5-1757-443b-a229-453e3e3115b2",
   "metadata": {},
   "outputs": [
    {
     "data": {
      "text/plain": [
       "3600000"
      ]
     },
     "execution_count": 9,
     "metadata": {},
     "output_type": "execute_result"
    }
   ],
   "source": [
    "rdd_split.count()"
   ]
  },
  {
   "cell_type": "markdown",
   "id": "6ff144ad-9378-4b72-ae84-1b1d2dda815d",
   "metadata": {},
   "source": [
    "Vamos explorar os resultados para ver se deu certo"
   ]
  },
  {
   "cell_type": "code",
   "execution_count": 10,
   "id": "fd7882d9-4502-406b-abc4-b74de6fa1aef",
   "metadata": {},
   "outputs": [
    {
     "data": {
      "text/plain": [
       "[(2,\n",
       "  'Stuning even for the non-gamer',\n",
       "  'This sound track was beautiful! It paints the senery in your mind so well I would recomend it even to people who hate vid. game music! I have played the game Chrono Cross but out of all of the games I have ever played it has the best music! It backs away from crude keyboarding and takes a fresher step with grate guitars and soulful orchestras. It would impress anyone who cares to listen! ^_^')]"
      ]
     },
     "execution_count": 10,
     "metadata": {},
     "output_type": "execute_result"
    }
   ],
   "source": [
    "rdd_split.take(1)"
   ]
  },
  {
   "cell_type": "markdown",
   "id": "3317a957-f13d-49fe-b193-9c6826616cc7",
   "metadata": {},
   "source": [
    "**Atividade**: Conte quantos sentimentos diferentes existem, e quantas vezes aparecem, para confirmar que só tem os sentimentos 1 e 2:"
   ]
  },
  {
   "cell_type": "code",
   "execution_count": 11,
   "id": "512a2ded-f456-44d4-a1f6-9a68c46c9587",
   "metadata": {},
   "outputs": [
    {
     "data": {
      "text/plain": [
       "2"
      ]
     },
     "execution_count": 11,
     "metadata": {},
     "output_type": "execute_result"
    }
   ],
   "source": [
    "rdd_sentimentos = rdd_split \\\n",
    "    .map(lambda x: (x[0], 1)) \\\n",
    "    .reduceByKey(lambda x, y: x + y) \\\n",
    "    .cache()\n",
    "rdd_sentimentos.count()"
   ]
  },
  {
   "cell_type": "code",
   "execution_count": 12,
   "id": "e5614ee9-79cd-4db2-8d5d-43c6b399cd90",
   "metadata": {},
   "outputs": [
    {
     "data": {
      "text/plain": [
       "[(1, 1800000), (2, 1800000)]"
      ]
     },
     "execution_count": 12,
     "metadata": {},
     "output_type": "execute_result"
    }
   ],
   "source": [
    "rdd_sentimentos.collect()"
   ]
  },
  {
   "cell_type": "markdown",
   "id": "fffe0feb-e926-485d-80c0-897bf7820e47",
   "metadata": {},
   "source": [
    "**Atividade**: Quantos reviews não tem titulo?"
   ]
  },
  {
   "cell_type": "code",
   "execution_count": 13,
   "id": "94a2e6cd-c930-4098-8ac2-c81259fa3805",
   "metadata": {},
   "outputs": [
    {
     "data": {
      "text/plain": [
       "48"
      ]
     },
     "execution_count": 13,
     "metadata": {},
     "output_type": "execute_result"
    }
   ],
   "source": [
    "rdd_split.filter(lambda x: not x[1]).count()"
   ]
  },
  {
   "cell_type": "markdown",
   "id": "a31da43c-d2a5-4806-a5bf-9765e7fb09f9",
   "metadata": {},
   "source": [
    "**Atividade**: Quantos reviews não tem corpo?"
   ]
  },
  {
   "cell_type": "code",
   "execution_count": 14,
   "id": "427ae15f-b5e0-4c43-b434-7200cac1b797",
   "metadata": {},
   "outputs": [
    {
     "data": {
      "text/plain": [
       "0"
      ]
     },
     "execution_count": 14,
     "metadata": {},
     "output_type": "execute_result"
    }
   ],
   "source": [
    "rdd_split.filter(lambda x: not x[2]).count()"
   ]
  },
  {
   "cell_type": "markdown",
   "id": "c76d3fd0-af72-4b2e-aa61-7ffc897b86c1",
   "metadata": {},
   "source": [
    "**Atividade**: Qual o comprimento máximo de um título e de um corpo?"
   ]
  },
  {
   "cell_type": "code",
   "execution_count": 15,
   "id": "c4326146-f435-42b9-815d-134727db2e17",
   "metadata": {},
   "outputs": [
    {
     "data": {
      "text/plain": [
       "(139, 1010)"
      ]
     },
     "execution_count": 15,
     "metadata": {},
     "output_type": "execute_result"
    }
   ],
   "source": [
    "rdd_split \\\n",
    "    .map(lambda x: (len(x[1]), len(x[2]))) \\\n",
    "    .reduce(lambda x, y: (max(x[0], y[0]), max(x[1], y[1])))"
   ]
  },
  {
   "cell_type": "markdown",
   "id": "11d96887-6d6d-494e-9ac0-0c06b5c08dc6",
   "metadata": {},
   "source": [
    "**Atividade**: Qual a maior palavra palíndroma no titulo ou corpo?"
   ]
  },
  {
   "cell_type": "code",
   "execution_count": 16,
   "id": "fc63887f-0031-437d-84e7-778eb001b6ed",
   "metadata": {},
   "outputs": [
    {
     "data": {
      "text/plain": [
       "'!!!!!!!!!!!!!!!!!!!!!!!!!!!!!!!!!!!!!!!!!!!!!!!!!!!!!!!'"
      ]
     },
     "execution_count": 16,
     "metadata": {},
     "output_type": "execute_result"
    }
   ],
   "source": [
    "def maior_palindromo(item):\n",
    "    texto = item[1] + ' ' + item[2]\n",
    "    texto = texto.split()\n",
    "    res = None\n",
    "    for palavra in texto:\n",
    "        if palavra == palavra[::-1]:\n",
    "            if not res or len(res) > len(palavra):\n",
    "                res = palavra\n",
    "    return res\n",
    "\n",
    "rdd_split \\\n",
    "    .map(maior_palindromo) \\\n",
    "    .filter(lambda x: x is not None) \\\n",
    "    .reduce(lambda x, y: x if len(x) > len(y) else y)\n"
   ]
  },
  {
   "cell_type": "markdown",
   "id": "d63f641d-1d98-4d84-8f7b-93b122ae057c",
   "metadata": {},
   "source": [
    "**Atividade**: Quais as 20 palavras mais populares do titulo? "
   ]
  },
  {
   "cell_type": "code",
   "execution_count": 17,
   "id": "fd877ddb-12db-4748-b948-506a8d482be6",
   "metadata": {},
   "outputs": [],
   "source": [
    "def top_20(col):\n",
    "    return rdd_split \\\n",
    "        .flatMap(lambda x: x[col].strip().split()) \\\n",
    "        .map(lambda x: (x, 1)) \\\n",
    "        .reduceByKey(lambda x, y: x + y) \\\n",
    "        .takeOrdered(20, key=lambda x: -x[1])"
   ]
  },
  {
   "cell_type": "code",
   "execution_count": 18,
   "id": "4c94a4fb-748e-49f8-938f-920958ad9e99",
   "metadata": {},
   "outputs": [
    {
     "data": {
      "text/plain": [
       "[('the', 348807),\n",
       " ('a', 249841),\n",
       " ('of', 241846),\n",
       " ('for', 220429),\n",
       " ('and', 190973),\n",
       " ('to', 177502),\n",
       " ('A', 173889),\n",
       " ('Great', 168288),\n",
       " ('I', 145120),\n",
       " ('is', 143982),\n",
       " ('Not', 140413),\n",
       " ('not', 128331),\n",
       " ('this', 121247),\n",
       " ('The', 119549),\n",
       " ('it', 107117),\n",
       " ('but', 95869),\n",
       " ('book', 95629),\n",
       " ('good', 87873),\n",
       " ('Good', 86357),\n",
       " ('in', 84964)]"
      ]
     },
     "execution_count": 18,
     "metadata": {},
     "output_type": "execute_result"
    }
   ],
   "source": [
    "top_20(1)"
   ]
  },
  {
   "cell_type": "code",
   "execution_count": null,
   "id": "8de29253-98bc-4c5f-b3fe-fc35bee98503",
   "metadata": {},
   "outputs": [],
   "source": []
  }
 ],
 "metadata": {
  "kernelspec": {
   "display_name": "Python 3 (ipykernel)",
   "language": "python",
   "name": "python3"
  },
  "language_info": {
   "codemirror_mode": {
    "name": "ipython",
    "version": 3
   },
   "file_extension": ".py",
   "mimetype": "text/x-python",
   "name": "python",
   "nbconvert_exporter": "python",
   "pygments_lexer": "ipython3",
   "version": "3.10.4"
  }
 },
 "nbformat": 4,
 "nbformat_minor": 5
}
